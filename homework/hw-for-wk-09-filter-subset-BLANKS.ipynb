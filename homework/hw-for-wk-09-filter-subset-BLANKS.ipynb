{
 "cells": [
  {
   "cell_type": "markdown",
   "id": "bb333aa4",
   "metadata": {},
   "source": [
    "# NYC traffic accidents over a 4 year period \n",
    "## Filter and Subset\n",
    "\n",
    "Download <a href=\"https://www.dropbox.com/s/585wrgl08djzlyt/accidents-nyc.csv?dl=0\">this dataset</a> stored on dropbox."
   ]
  },
  {
   "cell_type": "code",
   "execution_count": null,
   "id": "3a4e3c74",
   "metadata": {},
   "outputs": [],
   "source": [
    "## import necessary libraries"
   ]
  },
  {
   "cell_type": "code",
   "execution_count": null,
   "id": "506891bb",
   "metadata": {},
   "outputs": [],
   "source": [
    "## read the dataset into notebook\n"
   ]
  },
  {
   "cell_type": "code",
   "execution_count": null,
   "id": "d20d8cde",
   "metadata": {},
   "outputs": [],
   "source": [
    "## see the overall info about this dataset\n"
   ]
  },
  {
   "cell_type": "code",
   "execution_count": null,
   "id": "0cad6845",
   "metadata": {},
   "outputs": [],
   "source": [
    "## create a series of crash dates.\n"
   ]
  },
  {
   "cell_type": "code",
   "execution_count": null,
   "id": "f2b6b17a",
   "metadata": {},
   "outputs": [],
   "source": [
    "## Which borough had the most crashes?"
   ]
  },
  {
   "cell_type": "code",
   "execution_count": null,
   "id": "d556522d",
   "metadata": {},
   "outputs": [],
   "source": [
    "## which type of vehicle was primary vehicle involved in crashes?\n",
    "## SHOW ONLY THE TOP 7"
   ]
  },
  {
   "cell_type": "code",
   "execution_count": null,
   "id": "83dfc384",
   "metadata": {},
   "outputs": [],
   "source": [
    "## What were a FIVE unusual primary vehicles to get into a crash?\n"
   ]
  },
  {
   "cell_type": "code",
   "execution_count": null,
   "id": "8df45602",
   "metadata": {},
   "outputs": [],
   "source": [
    "## create a subset of data for only Queens\n",
    "## place it in a dataframe called df_q"
   ]
  },
  {
   "cell_type": "code",
   "execution_count": null,
   "id": "f7eee32b",
   "metadata": {},
   "outputs": [],
   "source": [
    "## CHALLENGE (as in you have to google this)\n",
    "## How many people were killed in Queens in accidents?\n"
   ]
  },
  {
   "cell_type": "code",
   "execution_count": null,
   "id": "be6822f8",
   "metadata": {},
   "outputs": [],
   "source": [
    "## Same\n",
    "## how many cyclists were killed in Queens?\n"
   ]
  },
  {
   "cell_type": "code",
   "execution_count": null,
   "id": "907f1f21",
   "metadata": {},
   "outputs": [],
   "source": [
    "## Filter and subset \n",
    "## create a dataset for Manhattan that involved taxi cabs as the primary vehicle cause\n"
   ]
  },
  {
   "cell_type": "code",
   "execution_count": null,
   "id": "32704f24",
   "metadata": {},
   "outputs": [],
   "source": [
    "## What were the top 5 causes of accidents across all the boroughs?\n",
    "## by primary vehicle cause\n",
    "\n",
    "df[\"CONTRIBUTING FACTOR VEHICLE 1\"].value_counts().head()\n",
    "\n"
   ]
  },
  {
   "cell_type": "code",
   "execution_count": null,
   "id": "77e3122f",
   "metadata": {},
   "outputs": [],
   "source": [
    "## What were the top 5 causes of accidents across all the boroughs?\n",
    "## by secondary vehicle cause\n"
   ]
  },
  {
   "cell_type": "code",
   "execution_count": null,
   "id": "d524c89e",
   "metadata": {},
   "outputs": [],
   "source": [
    "## What were the 5 RAREST causes for primary vehicles causing the accident\n",
    "\n",
    "df[\"CONTRIBUTING FACTOR VEHICLE 1\"].value_counts().tail()"
   ]
  },
  {
   "cell_type": "code",
   "execution_count": null,
   "id": "c67fbfac",
   "metadata": {},
   "outputs": [],
   "source": [
    "## list ALL the causes as unique values (in other words, create a list of the causes)\n",
    "## WHAT ARE SOME UNUSUAL REASONS FOR ACCIDENTS?\n",
    "\n"
   ]
  },
  {
   "cell_type": "code",
   "execution_count": null,
   "id": "3f7ad5c2",
   "metadata": {},
   "outputs": [],
   "source": []
  }
 ],
 "metadata": {
  "kernelspec": {
   "display_name": "Python 3 (ipykernel)",
   "language": "python",
   "name": "python3"
  },
  "language_info": {
   "codemirror_mode": {
    "name": "ipython",
    "version": 3
   },
   "file_extension": ".py",
   "mimetype": "text/x-python",
   "name": "python",
   "nbconvert_exporter": "python",
   "pygments_lexer": "ipython3",
   "version": "3.9.7"
  }
 },
 "nbformat": 4,
 "nbformat_minor": 5
}
