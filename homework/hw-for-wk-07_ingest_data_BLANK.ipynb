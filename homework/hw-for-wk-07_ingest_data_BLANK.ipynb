{
 "cells": [
  {
   "cell_type": "markdown",
   "id": "1d64966a",
   "metadata": {},
   "source": [
    "## Pandas - Importing data"
   ]
  },
  {
   "cell_type": "code",
   "execution_count": null,
   "id": "e8c6fb4b",
   "metadata": {},
   "outputs": [],
   "source": [
    "## import the pandas library in this cell\n"
   ]
  },
  {
   "cell_type": "markdown",
   "id": "415d55dd",
   "metadata": {},
   "source": [
    "### Ingest the following dataset into this note:\n",
    "\n",
    "- ```ems_2019_first_6_months.csv``` into a dataframe named ```ems_19_first_df```"
   ]
  },
  {
   "cell_type": "code",
   "execution_count": null,
   "id": "2609f6fb",
   "metadata": {},
   "outputs": [],
   "source": [
    "## import data and store in dataframe\n"
   ]
  },
  {
   "cell_type": "code",
   "execution_count": null,
   "id": "ec3cb6b2",
   "metadata": {},
   "outputs": [],
   "source": [
    "## call the first 10 rows\n"
   ]
  },
  {
   "cell_type": "code",
   "execution_count": null,
   "id": "fb59614c",
   "metadata": {},
   "outputs": [],
   "source": [
    "## call the last 5 rows\n"
   ]
  },
  {
   "cell_type": "code",
   "execution_count": null,
   "id": "0953ae2d",
   "metadata": {},
   "outputs": [],
   "source": [
    "## call a 20 random rows\n"
   ]
  },
  {
   "cell_type": "code",
   "execution_count": null,
   "id": "68c744d9",
   "metadata": {},
   "outputs": [],
   "source": [
    "## get basic overview of the data\n",
    "## what datatypes do the different columns hold?\n",
    "## how many rows and columns are there\n"
   ]
  },
  {
   "cell_type": "markdown",
   "id": "f1020f11",
   "metadata": {},
   "source": [
    "### In three separate cells, ingest the 3 other related datasets into this notebook:\n",
    "\n",
    "- ```ems_2019_last_6_months.csv``` into a dataframe named ```ems_19_last_df```\n",
    "- ```ems_2020_first_6_months.csv``` into a dataframe named ```ems_20_first_df```\n",
    "- ```ems_2020_last_6_months.csv``` into a dataframe named ```ems_20_last_df```\n",
    "\n",
    "We want to combine all 4 dataframes so we can run an analysis on the combined dataframes\n"
   ]
  },
  {
   "cell_type": "code",
   "execution_count": null,
   "id": "4272c69a",
   "metadata": {},
   "outputs": [],
   "source": [
    "### For last 6 months of 2019\n",
    "## call the dataframe to see what you have\n",
    "\n"
   ]
  },
  {
   "cell_type": "code",
   "execution_count": null,
   "id": "6f9e53a6",
   "metadata": {},
   "outputs": [],
   "source": [
    "### For first 6 months of 2020\n",
    "## call the dataframe to see what you have\n"
   ]
  },
  {
   "cell_type": "code",
   "execution_count": null,
   "id": "0194fc58",
   "metadata": {},
   "outputs": [],
   "source": [
    "### For last 6 months of 2020\n",
    "## call the dataframe to see what you have\n",
    "\n"
   ]
  },
  {
   "cell_type": "markdown",
   "id": "d62f884e",
   "metadata": {},
   "source": [
    "### Check if all the column headers are identical (down to the same order)\n",
    "We need to confirm they are the same before we combine them\n",
    "\n"
   ]
  },
  {
   "cell_type": "code",
   "execution_count": null,
   "id": "0747658c",
   "metadata": {},
   "outputs": [],
   "source": [
    "## headers for first 6 months of 2019\n"
   ]
  },
  {
   "cell_type": "code",
   "execution_count": null,
   "id": "3054a7b0",
   "metadata": {},
   "outputs": [],
   "source": [
    "## headers for first 6 months of 2020\n"
   ]
  },
  {
   "cell_type": "code",
   "execution_count": null,
   "id": "94e8108f",
   "metadata": {},
   "outputs": [],
   "source": [
    "## check if they are the same\n"
   ]
  },
  {
   "cell_type": "code",
   "execution_count": null,
   "id": "2e0f33b5",
   "metadata": {},
   "outputs": [],
   "source": [
    "## creater headers list for last 6 months of 2019 and 2020\n"
   ]
  },
  {
   "cell_type": "code",
   "execution_count": null,
   "id": "e032ecc2",
   "metadata": {},
   "outputs": [],
   "source": [
    "## check if one of the first is equal to one of the last\n"
   ]
  },
  {
   "cell_type": "code",
   "execution_count": null,
   "id": "92b595f0",
   "metadata": {},
   "outputs": [],
   "source": [
    "## now confirm that the two lasts are the same\n"
   ]
  },
  {
   "cell_type": "markdown",
   "id": "99e9a5b2",
   "metadata": {},
   "source": [
    "## Combine the 4 dataframes\n"
   ]
  },
  {
   "cell_type": "code",
   "execution_count": null,
   "id": "04b2e0c4",
   "metadata": {},
   "outputs": [],
   "source": [
    "## create a list to combine all \n"
   ]
  },
  {
   "cell_type": "code",
   "execution_count": null,
   "id": "eeed6d15",
   "metadata": {},
   "outputs": [],
   "source": [
    "## combine the dfs\n"
   ]
  },
  {
   "cell_type": "markdown",
   "id": "e2799b62",
   "metadata": {},
   "source": [
    "#### Confirm that their row totals add up to the correct number"
   ]
  },
  {
   "cell_type": "code",
   "execution_count": null,
   "id": "0105c8bf",
   "metadata": {},
   "outputs": [],
   "source": [
    "## how many rows does the combined df have\n"
   ]
  },
  {
   "cell_type": "code",
   "execution_count": null,
   "id": "5b30b4a7",
   "metadata": {},
   "outputs": [],
   "source": [
    "## get total rows when you add up all the individual dataframes\n",
    "\n"
   ]
  },
  {
   "cell_type": "markdown",
   "id": "a0fd21e7",
   "metadata": {},
   "source": [
    "## Ingest Massive Dataset\n",
    "\n",
    "Step 1. Open this dataset in Excel first. What happened?\n",
    "\n",
    "Step 2. Open this data set in Pandas."
   ]
  },
  {
   "cell_type": "code",
   "execution_count": null,
   "id": "aa9d11eb",
   "metadata": {},
   "outputs": [],
   "source": [
    "## import global_temps.csv into a df called temps_df\n",
    "\n",
    "\n"
   ]
  },
  {
   "cell_type": "markdown",
   "id": "eb0ac93d",
   "metadata": {},
   "source": [
    "## How many rows of data does this dataset have?"
   ]
  },
  {
   "cell_type": "code",
   "execution_count": null,
   "id": "1aaed466",
   "metadata": {},
   "outputs": [],
   "source": [
    "## 2_906_327"
   ]
  },
  {
   "cell_type": "markdown",
   "id": "c4cf8408",
   "metadata": {},
   "source": [
    "## Targeting an Excel sheet\n",
    "\n",
    "We need the Customs and Border Protection data in this ```multi-data.xlsx``` workbook.\n",
    "\n",
    "Note that this is an excerpt of the actual CBP data."
   ]
  },
  {
   "cell_type": "code",
   "execution_count": null,
   "id": "51b4ce7b",
   "metadata": {},
   "outputs": [],
   "source": [
    "### import it here\n"
   ]
  },
  {
   "cell_type": "code",
   "execution_count": null,
   "id": "63736197",
   "metadata": {},
   "outputs": [],
   "source": [
    "## call the top 15 rows\n"
   ]
  },
  {
   "cell_type": "code",
   "execution_count": null,
   "id": "6ff6132b",
   "metadata": {},
   "outputs": [],
   "source": []
  }
 ],
 "metadata": {
  "kernelspec": {
   "display_name": "Python 3 (ipykernel)",
   "language": "python",
   "name": "python3"
  },
  "language_info": {
   "codemirror_mode": {
    "name": "ipython",
    "version": 3
   },
   "file_extension": ".py",
   "mimetype": "text/x-python",
   "name": "python",
   "nbconvert_exporter": "python",
   "pygments_lexer": "ipython3",
   "version": "3.9.7"
  }
 },
 "nbformat": 4,
 "nbformat_minor": 5
}
